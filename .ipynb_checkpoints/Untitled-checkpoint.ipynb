{
 "cells": [
  {
   "cell_type": "code",
   "execution_count": null,
   "metadata": {},
   "outputs": [],
   "source": [
    "import datetime\n",
    "import oci\n",
    "import requests\n",
    "import json\n",
    "from oci.util import to_dict\n",
    "import logging\n",
    "import yaml\n",
    "from yapf.yapflib.yapf_api import FormatCode\n",
    "from base64 import b64encode, b64decode\n",
    "from operator import itemgetter \n",
    "import pprint"
   ]
  },
  {
   "cell_type": "code",
   "execution_count": null,
   "metadata": {},
   "outputs": [],
   "source": [
    "config = oci.config.from_file()\n",
    "streamingClient=oci.streaming.StreamClient(config,\"https://cell-1.streaming.us-phoenix-1.oci.oraclecloud.com\")\n",
    "identity_client = oci.identity.IdentityClient(config)\n",
    "compartment_ocids = []\n",
    "tenancy_id = config[\"tenancy\"]\n",
    "regions = identity_client.list_region_subscriptions(tenancy_id=config['tenancy']).data\n",
    "compartments = oci.pagination.list_call_get_all_results(\n",
    "        identity_client.list_compartments,\n",
    "        compartment_id=config['tenancy'],\n",
    "        compartment_id_in_subtree=True,\n",
    "        access_level=\"ACCESSIBLE\").data\n",
    "compartment_ocids = list(map(itemgetter('id'),to_dict(compartments)))\n",
    "region_names = list(map(itemgetter('region_name'),to_dict(regions)))"
   ]
  },
  {
   "cell_type": "code",
   "execution_count": null,
   "metadata": {},
   "outputs": [],
   "source": [
    "end_time_object = datetime.datetime.utcnow()\n",
    "start_time_object = end_time_object + datetime.timedelta(days=0, seconds=0, microseconds=0, milliseconds=0, minutes=-5, hours=0, weeks=0)\n",
    "start_time = start_time_object.strftime('%m/%d/%y %H:%M:%S')\n",
    "end_time = end_time_object.strftime('%m/%d/%y %H:%M:%S')"
   ]
  },
  {
   "cell_type": "code",
   "execution_count": null,
   "metadata": {},
   "outputs": [],
   "source": [
    "streamOCID = 'ocid1.stream.oc1.phx.amaaaaaa43cggciaxcyem4wmd7ukd2ogfcborvp5vtxyhcagnqkblmbqepdq'\n",
    "msg_list = []\n",
    "identifier = \"region_compartment\"\n",
    "msg_details = oci.streaming.models.PutMessagesDetails()\n",
    "for region_name in region_names:\n",
    "    for compartment_ocid in compartment_ocids:\n",
    "        message_json = json.dumps({\"region\":region_name, \"compartment\":compartment_ocid, \"start_time\": start_time, \"end_time\":end_time})\n",
    "        msg_key = b64encode(identifier.encode()).decode()\n",
    "        msg_value = b64encode(message_json.encode()).decode()\n",
    "        msg_list.append(oci.streaming.models.PutMessagesDetailsEntry(key =  msg_key , value = msg_value))\n",
    "msg_details.messages = msg_list"
   ]
  },
  {
   "cell_type": "code",
   "execution_count": null,
   "metadata": {},
   "outputs": [],
   "source": [
    "streamResponse  = streamingClient.put_messages(streamOCID,msg_details)"
   ]
  },
  {
   "cell_type": "code",
   "execution_count": null,
   "metadata": {},
   "outputs": [],
   "source": [
    "offset = int(to_dict(streamResponse.data)['entries'][0]['offset'])\n",
    "num_records = int(len(to_dict(streamResponse.data)['entries']))\n",
    "print(offset, num_records)"
   ]
  },
  {
   "cell_type": "code",
   "execution_count": null,
   "metadata": {},
   "outputs": [],
   "source": [
    "records_per_fn = 100"
   ]
  },
  {
   "cell_type": "code",
   "execution_count": null,
   "metadata": {},
   "outputs": [],
   "source": [
    "cursor_details = oci.streaming.models.CreateCursorDetails(partition = '0', type = 'AFTER_OFFSET', offset = 5600)\n",
    "cursor_response = streamingClient.create_cursor(stream_id= streamOCID, create_cursor_details = cursor_details)"
   ]
  },
  {
   "cell_type": "code",
   "execution_count": null,
   "metadata": {},
   "outputs": [],
   "source": [
    "message_response = streamingClient.get_messages(stream_id=streamOCID, cursor=cursor_response.data.value, limit = 50).data"
   ]
  },
  {
   "cell_type": "code",
   "execution_count": null,
   "metadata": {},
   "outputs": [],
   "source": [
    "b64_region_compartment_list = list(map(itemgetter('value'),to_dict(message_response)))\n",
    "region_compartment_list = list(map(lambda x: json.loads(b64decode(x).decode()), b64_region_compartment_list))"
   ]
  },
  {
   "cell_type": "code",
   "execution_count": null,
   "metadata": {},
   "outputs": [],
   "source": [
    "pprint.pprint(region_compartment_list)"
   ]
  },
  {
   "cell_type": "code",
   "execution_count": 169,
   "metadata": {},
   "outputs": [
    {
     "name": "stderr",
     "output_type": "stream",
     "text": [
      "2020-03-22 16:49:13,506 - oci.base_client.139659184971616 - INFO -  2020-03-22 16:49:13.506490: Request: POST https://cell-1.streaming.us-phoenix-1.oci.oraclecloud.com/20180418/streams/ocid1.stream.oc1.phx.amaaaaaa43cggciaxcyem4wmd7ukd2ogfcborvp5vtxyhcagnqkblmbqepdq/cursors\n",
      "2020-03-22 16:49:13,512 - oci._vendor.urllib3.connectionpool - DEBUG - Starting new HTTPS connection (1): cell-1.streaming.us-phoenix-1.oci.oraclecloud.com:443\n",
      "2020-03-22 16:49:13,585 - oci._vendor.urllib3.connectionpool - DEBUG - https://cell-1.streaming.us-phoenix-1.oci.oraclecloud.com:443 \"POST /20180418/streams/ocid1.stream.oc1.phx.amaaaaaa43cggciaxcyem4wmd7ukd2ogfcborvp5vtxyhcagnqkblmbqepdq/cursors HTTP/1.1\" 200 334\n",
      "2020-03-22 16:49:13,587 - oci.base_client.139659184971616 - DEBUG -  2020-03-22 16:49:13.587100: time elapsed for request 8452A6BC44BD4C3FA7FD2A79264C26C4: 0.07882196269929409\n",
      "2020-03-22 16:49:13,589 - oci.base_client.139659184971616 - DEBUG -  2020-03-22 16:49:13.589790: time elapsed in response: 0:00:00.074686\n",
      "2020-03-22 16:49:13,591 - oci.base_client.139659184971616 - DEBUG -  2020-03-22 16:49:13.591915: Response status: 200\n",
      "2020-03-22 16:49:13,593 - oci.base_client.139659184971616 - DEBUG -  2020-03-22 16:49:13.593016: python SDK time elapsed for deserializing: 5.629006773233414e-05\n",
      "2020-03-22 16:49:13,595 - oci.base_client.139659184971616 - DEBUG -  2020-03-22 16:49:13.595255: Response returned\n",
      "2020-03-22 16:49:13,597 - oci.base_client.139659184971616 - DEBUG - time elapsed for request: 0.09100665990263224\n",
      "2020-03-22 16:49:13,598 - oci.base_client.139659184971616 - INFO -  2020-03-22 16:49:13.598688: Request: GET https://cell-1.streaming.us-phoenix-1.oci.oraclecloud.com/20180418/streams/ocid1.stream.oc1.phx.amaaaaaa43cggciaxcyem4wmd7ukd2ogfcborvp5vtxyhcagnqkblmbqepdq/messages\n",
      "2020-03-22 16:49:13,700 - oci._vendor.urllib3.connectionpool - DEBUG - https://cell-1.streaming.us-phoenix-1.oci.oraclecloud.com:443 \"GET /20180418/streams/ocid1.stream.oc1.phx.amaaaaaa43cggciaxcyem4wmd7ukd2ogfcborvp5vtxyhcagnqkblmbqepdq/messages?cursor=eyJjdXJzb3JUeXBlIjoicGFydGl0aW9uIiwidHlwZSI6IkFmdGVyT2Zmc2V0Iiwib2Zmc2V0Ijo1NjAwLCJ0aW1lIjpudWxsLCJwYXJ0aXRpb24iOiIwIiwic3RyZWFtSWQiOiJvY2lkMS5zdHJlYW0ub2MxLnBoeC5hbWFhYWFhYTQzY2dnY2lheGN5ZW00d21kN3VrZDJvZ2ZjYm9ydnA1dnR4eWhjYWducWtibG1icWVwZHEiLCJleHBpcmF0aW9uIjoxNTg0ODk2MDUzNTgzLCJjdXJzb3JUeXBlIjoicGFydGl0aW9uIn0%3D&limit=50 HTTP/1.1\" 200 110309\n",
      "2020-03-22 16:49:13,703 - oci.base_client.139659184971616 - DEBUG -  2020-03-22 16:49:13.703257: time elapsed for request A1DF0AF97DB441638C4658635209037B: 0.10346237663179636\n",
      "2020-03-22 16:49:13,704 - oci.base_client.139659184971616 - DEBUG -  2020-03-22 16:49:13.704222: time elapsed in response: 0:00:00.095646\n",
      "2020-03-22 16:49:13,705 - oci.base_client.139659184971616 - DEBUG -  2020-03-22 16:49:13.705209: Response status: 200\n",
      "2020-03-22 16:49:13,707 - oci.base_client.139659184971616 - DEBUG -  2020-03-22 16:49:13.707495: python SDK time elapsed for deserializing: 0.0009032068774104118\n",
      "2020-03-22 16:49:13,708 - oci.base_client.139659184971616 - DEBUG -  2020-03-22 16:49:13.708553: Response returned\n",
      "2020-03-22 16:49:13,709 - oci.base_client.139659184971616 - DEBUG - time elapsed for request: 0.11087869666516781\n",
      "2020-03-22 16:49:13,724 - HEC - INFO - HEC Instance Ready: server_uri=https://input-prd-p-v534qqr3rnhz.cloud.splunk.com:8088/services/collector/event\n"
     ]
    },
    {
     "name": "stdout",
     "output_type": "stream",
     "text": [
      "9\n"
     ]
    },
    {
     "ename": "TypeError",
     "evalue": "'int' object is not iterable",
     "output_type": "error",
     "traceback": [
      "\u001b[0;31m---------------------------------------------------------------------------\u001b[0m",
      "\u001b[0;31mTypeError\u001b[0m                                 Traceback (most recent call last)",
      "\u001b[0;32m<ipython-input-169-2c317627e928>\u001b[0m in \u001b[0;36m<module>\u001b[0;34m\u001b[0m\n\u001b[1;32m     35\u001b[0m \u001b[0mpprint\u001b[0m\u001b[0;34m.\u001b[0m\u001b[0mpprint\u001b[0m\u001b[0;34m(\u001b[0m\u001b[0mlen\u001b[0m\u001b[0;34m(\u001b[0m\u001b[0moci_audit_events_payload\u001b[0m\u001b[0;34m)\u001b[0m\u001b[0;34m)\u001b[0m\u001b[0;34m\u001b[0m\u001b[0;34m\u001b[0m\u001b[0m\n\u001b[1;32m     36\u001b[0m \u001b[0;34m\u001b[0m\u001b[0m\n\u001b[0;32m---> 37\u001b[0;31m \u001b[0;32mfor\u001b[0m \u001b[0mi\u001b[0m \u001b[0;32min\u001b[0m \u001b[0mlen\u001b[0m\u001b[0;34m(\u001b[0m\u001b[0moci_audit_events_payload\u001b[0m\u001b[0;34m)\u001b[0m\u001b[0;34m:\u001b[0m\u001b[0;34m\u001b[0m\u001b[0;34m\u001b[0m\u001b[0m\n\u001b[0m\u001b[1;32m     38\u001b[0m     \u001b[0mpayload\u001b[0m \u001b[0;34m=\u001b[0m \u001b[0;34m{\u001b[0m\u001b[0;34m}\u001b[0m\u001b[0;34m\u001b[0m\u001b[0;34m\u001b[0m\u001b[0m\n\u001b[1;32m     39\u001b[0m     \u001b[0mpayload\u001b[0m\u001b[0;34m.\u001b[0m\u001b[0mupdate\u001b[0m\u001b[0;34m(\u001b[0m\u001b[0;34m{\u001b[0m\u001b[0;34m\"index\"\u001b[0m\u001b[0;34m:\u001b[0m \u001b[0mos\u001b[0m\u001b[0;34m.\u001b[0m\u001b[0menviron\u001b[0m\u001b[0;34m[\u001b[0m\u001b[0;34m\"splunk_index_name\"\u001b[0m\u001b[0;34m]\u001b[0m\u001b[0;34m}\u001b[0m\u001b[0;34m)\u001b[0m\u001b[0;34m\u001b[0m\u001b[0;34m\u001b[0m\u001b[0m\n",
      "\u001b[0;31mTypeError\u001b[0m: 'int' object is not iterable"
     ]
    }
   ],
   "source": [
    "import io\n",
    "import json\n",
    "from splunk_http_event_collector import http_event_collector\n",
    "from fdk import response\n",
    "from oci import streaming\n",
    "from oci import util\n",
    "from oci import auth\n",
    "from base64 import b64encode, b64decode\n",
    "from operator import itemgetter\n",
    "import os\n",
    "\n",
    "\n",
    "def read_from_stream(streaming_endpoint, stream_ocid, offset, num_records):\n",
    "    streaming_client= streaming.StreamClient(config, service_endpoint = streaming_endpoint)\n",
    "    cursor_details = streaming.models.CreateCursorDetails(partition = '0', type = 'AFTER_OFFSET', offset = offset)\n",
    "    cursor_response = streaming_client.create_cursor(stream_id= stream_ocid, create_cursor_details = cursor_details)\n",
    "    message_response = streaming_client.get_messages(stream_id= stream_ocid, cursor=cursor_response.data.value, limit = num_records).data\n",
    "    b64_region_compartment_list = list(map(itemgetter('value'),util.to_dict(message_response)))\n",
    "    result = list(map(lambda x: json.loads(b64decode(x).decode()), b64_region_compartment_list))\n",
    "    return result\n",
    "\n",
    "streaming_endpoint = 'https://cell-1.streaming.us-phoenix-1.oci.oraclecloud.com'\n",
    "stream_ocid = 'ocid1.stream.oc1.phx.amaaaaaa43cggciaxcyem4wmd7ukd2ogfcborvp5vtxyhcagnqkblmbqepdq'\n",
    "oci_audit_events_payload = read_from_stream(streaming_endpoint, stream_ocid, 5600, 50)\n",
    "oci_audit_events_JSON = http_event_collector(\n",
    "    token='86a30df9-f262-4e96-9f27-3e2903454c88',\n",
    "    host='oci-audit-logs',\n",
    "    input_type=\"json\",\n",
    "    http_event_port=\"8088\",\n",
    "    http_event_server='input-prd-p-v534qqr3rnhz.cloud.splunk.com',\n",
    ")\n",
    "oci_audit_events_JSON.SSL_verify = False\n",
    "oci_audit_events_JSON.popNullFields = False\n",
    "oci_audit_events_JSON.index = \"main\"\n",
    "pprint.pprint(len(oci_audit_events_payload))\n",
    "\n",
    "for i in oci_audit_events_payload:\n",
    "    payload = {}\n",
    "    payload.update({\"index\": os.environ[\"splunk_index_name\"]})\n",
    "    payload.update({\"sourcetype\": \"_json\"})\n",
    "    payload.update({\"source\": os.environ[\"splunk_source_name\"]})\n",
    "    payload.update({\"host\": os.environ[\"source_host_name\"]})\n",
    "    payload.update({\"event\": i})\n",
    "    oci_audit_events_JSON.batchEvent(payload)\n",
    "oci_audit_events_JSON.flushBatch()"
   ]
  },
  {
   "cell_type": "code",
   "execution_count": null,
   "metadata": {},
   "outputs": [],
   "source": []
  }
 ],
 "metadata": {
  "kernelspec": {
   "display_name": "Python 3",
   "language": "python",
   "name": "python3"
  },
  "language_info": {
   "codemirror_mode": {
    "name": "ipython",
    "version": 3
   },
   "file_extension": ".py",
   "mimetype": "text/x-python",
   "name": "python",
   "nbconvert_exporter": "python",
   "pygments_lexer": "ipython3",
   "version": "3.6.8"
  }
 },
 "nbformat": 4,
 "nbformat_minor": 4
}
